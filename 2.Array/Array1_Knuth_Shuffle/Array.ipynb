{
 "cells": [
  {
   "cell_type": "markdown",
   "metadata": {},
   "source": [
    "# Array (数组)\n",
    "\n",
    "数组的特性有以下几点:\n",
    "\n",
    "1. 长度是固定的\n",
    "2. 数组中每个元素的大小是一样的\n",
    "3. 数组中每个元素是连续的，数组指向第一个元素的地址\n",
    "4. 数组的读取是依靠索引值计算，时间复杂度是 $O(1)$\n",
    "\n",
    "算法这个东西很抽象，但是一切抽象的东西都是源自于我们对具体事物的一种总结，归纳。\n",
    "\n",
    "所以几乎一切算法都包含着古老的智慧。在现实生活中也一定会有具体的体现。\n",
    "\n",
    "比如我们接下来要谈到的 Knuth-Shuffle (作者 Donald Knuth, 著有 The Art Of Computer Programming)\n",
    "\n",
    "以下是 Knuth 老爷子:\n",
    "\n",
    "![Donald Knuth](./Donald_Knuth_1.png)\n",
    "\n",
    "\n",
    "## 1. Knuth-Suffle\n",
    "\n",
    "现在我们有一个问题，就是如何能公平洗牌，使得每一次洗牌中每一张牌的打乱概率是一样的呢？\n",
    "\n",
    "简单点说，就是如何使洗牌 100% 公平呢？\n",
    "\n",
    "Knuth-Suffle 就是解决公平洗牌的问题的，而且时间复杂度为 $ O(n) $ (**Amazing!!!!**)。\n",
    "\n",
    "其实这种想法在我们幼儿园的时候就接触过，这里先卖个关子，最后再说我们幼儿园是怎么接触到这种算法的？\n",
    "\n",
    "现在解释一下Knuth-Shuffle,来自知乎:\n",
    "\n",
    "> https://zhuanlan.zhihu.com/p/73147939\n",
    "\n",
    "首先，假设我们需要乱序的元素有5个，如下：\n",
    "\n",
    "![step0](./0.jpg)\n",
    "\n",
    "然后我们随机在5个数中抽取一个数，与最后一个元素交换:\n",
    "\n",
    "![step1](./1.jpg)\n",
    "\n",
    "这一次交换的概率计算很简单，为$\\frac{1}{5}$:\n",
    "\n",
    "![step2](./2.jpg)\n",
    "\n",
    "现在我们已经交换了2和5,现在我们不管最后一个元素了。在前面4个元素中随机取一个，再与这4个中最后一个元素进行交换:\n",
    "\n",
    "![step3](./3.jpg)\n",
    "\n",
    "那么这一次的概率为多少呢？\n",
    "\n",
    "其实很简单。因为3现在这一轮被选中的概率为 $\\frac{1}{4}$, 上一轮没有被选中的概率为 $\\frac{4}{5}$。\n",
    "\n",
    "他们相乘，就可以得到拿出3的概率，为 $\\frac{4}{5} \\times \\frac{1}{4} = \\frac{1}{5}$\n",
    "\n",
    "![step4](./4.jpg)\n",
    "\n",
    "接下来的概率计算原理与这一次类似，不过多赘述，可以自行体会:\n",
    "\n",
    "![step4_0](./5_0.jpg)\n",
    "\n",
    "![step5](./5.jpg)\n",
    "\n",
    "![step6](./6.jpg)\n",
    "\n",
    "![step7](./7.jpg)\n",
    "\n",
    "实现方法如下:"
   ]
  },
  {
   "cell_type": "code",
   "execution_count": null,
   "metadata": {},
   "outputs": [],
   "source": [
    "import random\n",
    "\n",
    "def knuth_shuffle(array):\n",
    "    for i in range(len(array)-1, -1, -1):  # O(n)\n",
    "        random_choice = random.randint(0, i) # O(n)\n",
    "        # strat swap \n",
    "        temp = array[random_choice]  # O(n)\n",
    "        array[random_choice] = array[i] # O(n)\n",
    "        array[i] = temp # O(n)"
   ]
  },
  {
   "cell_type": "markdown",
   "metadata": {},
   "source": [
    "接下来我们使用，测试一下我们的算法:"
   ]
  },
  {
   "cell_type": "code",
   "execution_count": null,
   "metadata": {},
   "outputs": [],
   "source": [
    "my_array = [1, 2, 3, 4, 5, 6, 7]\n",
    "knuth_shuffle(my_array)\n",
    "my_array"
   ]
  },
  {
   "cell_type": "markdown",
   "metadata": {},
   "source": [
    "我们仔细想一下，这个Knuth-Shuffle是不是很像我们小时候的抓阄呀？\n",
    "\n",
    "抓阄在我们潜意识里面就是十分公平的存在。\n",
    "\n",
    "每一个人依次抓一个签，就相当与Knuth算法中每一次抓出一个数字放在Array最后是等效的。"
   ]
  }
 ],
 "metadata": {
  "kernelspec": {
   "display_name": "Python 3",
   "language": "python",
   "name": "python3"
  },
  "language_info": {
   "codemirror_mode": {
    "name": "ipython",
    "version": 3
   },
   "file_extension": ".py",
   "mimetype": "text/x-python",
   "name": "python",
   "nbconvert_exporter": "python",
   "pygments_lexer": "ipython3",
   "version": "3.6.5"
  }
 },
 "nbformat": 4,
 "nbformat_minor": 4
}
