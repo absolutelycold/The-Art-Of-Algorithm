{
 "cells": [
  {
   "cell_type": "markdown",
   "metadata": {},
   "source": [
    "# Merge Sort\n",
    "\n",
    "The sequence of merge sort is shown below:\n",
    "\n",
    "![](https://media.geeksforgeeks.org/wp-content/cdn-uploads/Merge-Sort-Tutorial.png)\n",
    "\n",
    "the beyond part is devide part.\n",
    "\n",
    "the below part is the conquer part.\n",
    "\n",
    "So this algorithm use the idea of **divide and conquer**.\n",
    "\n",
    "The divide part is easy, just divide in the middle.\n",
    "\n",
    "The conquer part use this method to merge two part:\n",
    "\n",
    "![](https://images2015.cnblogs.com/blog/1024555/201612/1024555-20161218194508761-468169540.png)\n"
   ]
  },
  {
   "cell_type": "markdown",
   "metadata": {},
   "source": [
    "## Java Implementation\n",
    "\n",
    "+ Class Name: Merge\n",
    "  + sort(Comparable[] input)\n",
    "  + sort(Comparable[] input, int start, int end)\n",
    "  + merge(Comparable[], int start, int middle, int end)"
   ]
  },
  {
   "cell_type": "code",
   "execution_count": 1,
   "metadata": {},
   "outputs": [],
   "source": [
    "public class Merge{\n",
    "\n",
    "    public static void sort(Comparable[] input) {\n",
    "        sort(input, 0, input.length - 1);\n",
    "    }\n",
    "    \n",
    "    public static void sort(Comparable[] input, int start, int end) {\n",
    "        // Security Check, or the stop sign\n",
    "        if (start >= end) {\n",
    "            return;\n",
    "        }\n",
    "        \n",
    "        // Divide\n",
    "        int middle = start + (end - start) / 2;\n",
    "        sort(input, start, middle);\n",
    "        sort(input, middle + 1, end);\n",
    "        \n",
    "        // Conquer\n",
    "        merge(input, start, middle, end);\n",
    "    }\n",
    "    \n",
    "    public static void merge(Comparable[] input, int start, int middle, int end) {\n",
    "        // temp array to store the sorted subsequence\n",
    "        ArrayList<Comparable> temp = new ArrayList<>();\n",
    "        \n",
    "        // pointer of left\n",
    "        int pLeft = start;\n",
    "        // pointer of right\n",
    "        int pRight = middle + 1;\n",
    "        \n",
    "        // Merge\n",
    "        while((pLeft <= middle) && (pRight <= end)) {\n",
    "            if(input[pLeft].compareTo(input[pRight]) < 0) {\n",
    "                temp.add(input[pLeft]);\n",
    "                pLeft++;\n",
    "            }\n",
    "            else {\n",
    "                temp.add(input[pRight]);\n",
    "                pRight++;\n",
    "            }\n",
    "        }\n",
    "        \n",
    "        // Add remain elements in the left to temp\n",
    "        while(pLeft <= middle) {\n",
    "            temp.add(input[pLeft]);\n",
    "            pLeft++;\n",
    "        }\n",
    "        \n",
    "        // Add remain elements in the right to temp\n",
    "        while(pRight <= end) {\n",
    "            temp.add(input[pRight]);\n",
    "            pRight++;\n",
    "        }\n",
    "        \n",
    "        \n",
    "        // move elements in temp to the original input\n",
    "        int count = 0;\n",
    "        for (int i = start; i <= end; i++) {\n",
    "            input[i] = temp.get(count);\n",
    "            count++;\n",
    "        }\n",
    "        \n",
    "        \n",
    "    }\n",
    "    \n",
    "}"
   ]
  },
  {
   "cell_type": "markdown",
   "metadata": {},
   "source": [
    "## Test"
   ]
  },
  {
   "cell_type": "code",
   "execution_count": 2,
   "metadata": {},
   "outputs": [
    {
     "name": "stdout",
     "output_type": "stream",
     "text": [
      "[1, 2, 2, 7, 8, 21, 33, 33, 34, 54, 100]\r\n"
     ]
    }
   ],
   "source": [
    "Integer[] a = {33, 21, 2, 34, 2, 1, 54, 7, 8, 100, 33};\n",
    "Merge.sort(a);\n",
    "System.out.println(Arrays.toString(a));"
   ]
  },
  {
   "cell_type": "markdown",
   "metadata": {},
   "source": [
    "Generate an array with 100000 numbers:"
   ]
  },
  {
   "cell_type": "code",
   "execution_count": 3,
   "metadata": {},
   "outputs": [],
   "source": [
    "Integer[] testArray = new Integer[100000];\n",
    "int count = 0;\n",
    "for (int i = 100000; i > 0; i--) {\n",
    "    testArray[count] = i;\n",
    "    count++;\n",
    "}"
   ]
  },
  {
   "cell_type": "markdown",
   "metadata": {},
   "source": [
    "Test the time of merge sort:"
   ]
  },
  {
   "cell_type": "code",
   "execution_count": 4,
   "metadata": {},
   "outputs": [
    {
     "name": "stdout",
     "output_type": "stream",
     "text": [
      "Time of running merge sort:90 ms\r\n"
     ]
    }
   ],
   "source": [
    "long startTime = System.currentTimeMillis();\n",
    "Merge.sort(testArray);\n",
    "long stopTime = System.currentTimeMillis();\n",
    "System.out.println(\"Time of running merge sort:\" + (stopTime - startTime) + \" ms\");"
   ]
  },
  {
   "cell_type": "markdown",
   "metadata": {},
   "source": [
    "## Time Complexity"
   ]
  },
  {
   "cell_type": "markdown",
   "metadata": {},
   "source": [
    "Some law in merge sort:\n",
    "\n",
    "For a tree like this:\n",
    "\n",
    "![](https://static.javatpoint.com/tutorial/daa/images/daa-merge-sort.png)"
   ]
  },
  {
   "cell_type": "markdown",
   "metadata": {},
   "source": [
    "If we have input with size $n$\n",
    "\n",
    "1. The divide times(layers) are $log(n)$\n",
    "\n",
    "2. for each layer, there are $2^{layer\\#}$ sequences\n",
    "\n",
    "3. for each layer, the subsequence has $2^{log(n) - layer\\#}$\n",
    "\n",
    "$\\therefore$ we can calculate the maximum compare num in each layer:\n",
    "$ 2^{layer\\#} \\times 2^{log(n) - layer\\#} = 2^{log(n)} = n$\n",
    "\n",
    "$\\therefore$ the total number of comparision is:\n",
    "$2^{log(n)} \\times layers = 2^{log(n)} \\times log(n) = nlog(n)$\n",
    "\n",
    "$ \\therefore $ the time complexity of merge sort is $O(nlogn)$"
   ]
  }
 ],
 "metadata": {
  "kernelspec": {
   "display_name": "Java",
   "language": "java",
   "name": "java"
  },
  "language_info": {
   "codemirror_mode": "java",
   "file_extension": ".jshell",
   "mimetype": "text/x-java-source",
   "name": "Java",
   "pygments_lexer": "java",
   "version": "14.0.2+12-46"
  }
 },
 "nbformat": 4,
 "nbformat_minor": 2
}
