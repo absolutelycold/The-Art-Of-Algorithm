{
 "cells": [
  {
   "cell_type": "markdown",
   "metadata": {},
   "source": [
    "# 质数个数\n",
    "\n",
    "题目为:\n",
    "\n",
    "给定一个数字 $ N $, 计算出 $N$ 之前的所有质数的个数(包括$N$).\n",
    "\n",
    "## 1. 算法一： 暴力算法\n",
    "\n",
    "对每个小于$N$的数都进行遍历。如果出现除了1和自身的factor就直接跳到下一个循环。\n",
    "\n",
    "遍历的次数为 $\\sqrt{N}$, 因为只要判断一半的factor即可，判断了两边要除以2。\n",
    "\n",
    "实现方法如下"
   ]
  },
  {
   "cell_type": "code",
   "execution_count": 63,
   "metadata": {},
   "outputs": [],
   "source": [
    "def brute_force_algorithm(num):\n",
    "    # exclude 1, 1 is not a prime\n",
    "    prime_sum = num - 1\n",
    "    \n",
    "    # scan all numbers\n",
    "    for i in range(2, num + 1):\n",
    "        \n",
    "        # calculate if the number is prime\n",
    "        for j in range(1, round(i ** 0.5) + 1):\n",
    "            if (j != 1) and (j != i):\n",
    "                if ( i % j ) == 0:\n",
    "                    \n",
    "                    # if the current number is not prome,\n",
    "                    # minus 1 for prime sum\n",
    "                    prime_sum -= 1\n",
    "                    \n",
    "                    #print(i)\n",
    "                    break\n",
    "    return prime_sum"
   ]
  },
  {
   "cell_type": "code",
   "execution_count": 64,
   "metadata": {},
   "outputs": [
    {
     "name": "stdout",
     "output_type": "stream",
     "text": [
      "7\n"
     ]
    }
   ],
   "source": [
    "print(brute_force_algorithm(17))"
   ]
  },
  {
   "cell_type": "markdown",
   "metadata": {},
   "source": [
    "## 2. 算法二(最佳算法): Sieve of Eratosthenes\n",
    "\n",
    "*Eratosthenes* 是古希腊的一个数学家。他大约在公元前200年发明了这种算法。\n",
    "\n",
    "算法实例如下:\n",
    "\n",
    "![sieve_of_Eratosthenes](./Sieve_of_Eratosthenes_animation.gif)\n",
    "\n",
    "1. 首先假设所有数都是质数。\n",
    "2. 从2开始第N个数，去除掉所有N的倍数\n",
    "3. 最后留下来的都是质数\n",
    "\n",
    "实现方法如下:"
   ]
  },
  {
   "cell_type": "code",
   "execution_count": null,
   "metadata": {},
   "outputs": [],
   "source": [
    "def sieve_of_eratosthenes(num):\n",
    "    # create an array to store all numbers:\n",
    "    # we dont care about 1, so we delete 1\n",
    "    num_array = [1 for i in range(0, num - 1)]\n",
    "    \n",
    "    for i in range()"
   ]
  }
 ],
 "metadata": {
  "kernelspec": {
   "display_name": "venv",
   "language": "python",
   "name": "venv"
  },
  "language_info": {
   "codemirror_mode": {
    "name": "ipython",
    "version": 3
   },
   "file_extension": ".py",
   "mimetype": "text/x-python",
   "name": "python",
   "nbconvert_exporter": "python",
   "pygments_lexer": "ipython3",
   "version": "3.5.2"
  }
 },
 "nbformat": 4,
 "nbformat_minor": 4
}
