{
 "cells": [
  {
   "cell_type": "markdown",
   "metadata": {},
   "source": [
    "# 质数个数\n",
    "\n",
    "题目为:\n",
    "\n",
    "给定一个数字 $ N $, 计算出 $N$ 之前的所有质数的个数(包括$N$).\n",
    "\n",
    "## 1. 算法一： 暴力算法\n",
    "\n",
    "对每个小于$N$的数都进行遍历。如果出现除了1和自身的factor就直接跳到下一个循环。\n",
    "\n",
    "遍历的次数为 $\\sqrt{N}$, 因为只要判断一半的factor即可，判断了两边要除以2。\n",
    "\n",
    "实现方法如下"
   ]
  },
  {
   "cell_type": "code",
   "execution_count": 1,
   "metadata": {},
   "outputs": [],
   "source": [
    "def brute_force_algorithm(num):\n",
    "    # exclude 1, 1 is not a prime\n",
    "    prime_sum = num - 1\n",
    "    \n",
    "    # scan all numbers\n",
    "    for i in range(2, num + 1):\n",
    "        \n",
    "        # calculate if the number is prime\n",
    "        for j in range(1, round(i ** 0.5) + 1):\n",
    "            if (j != 1) and (j != i):\n",
    "                if ( i % j ) == 0:\n",
    "                    \n",
    "                    # if the current number is not prome,\n",
    "                    # minus 1 for prime sum\n",
    "                    prime_sum -= 1\n",
    "                    \n",
    "                    #print(i)\n",
    "                    break\n",
    "    return prime_sum"
   ]
  },
  {
   "cell_type": "code",
   "execution_count": 2,
   "metadata": {},
   "outputs": [
    {
     "name": "stdout",
     "output_type": "stream",
     "text": [
      "7\n"
     ]
    }
   ],
   "source": [
    "print(brute_force_algorithm(17))"
   ]
  },
  {
   "cell_type": "markdown",
   "metadata": {},
   "source": [
    "此种算法的时间复杂度为 $ O(n^2) $"
   ]
  },
  {
   "cell_type": "markdown",
   "metadata": {},
   "source": [
    "## 2. 算法二(最佳算法): Sieve of Eratosthenes\n",
    "\n",
    "*Eratosthenes* 是古希腊的一个数学家。他大约在公元前200年发明了这种算法。\n",
    "\n",
    "算法实例如下:\n",
    "\n",
    "![sieve_of_Eratosthenes](./Sieve_of_Eratosthenes_animation.gif)\n",
    "\n",
    "1. 首先假设所有数都是质数,设置flag都为1。\n",
    "2. 从2开始第N个flag为1的数，设置N这个位置的数的倍数的flag都为0。\n",
    "3. 最后留下来的都是质数\n",
    "\n",
    "实现方法如下:"
   ]
  },
  {
   "cell_type": "code",
   "execution_count": 3,
   "metadata": {},
   "outputs": [],
   "source": [
    "def sieve_of_eratosthenes(num):\n",
    "    # create an array to store all numbers:\n",
    "    # we dont care about 1, so we delete 1\n",
    "    num_array = [1 for i in range(0, num - 1)]\n",
    "    \n",
    "    # 0->2 ... (num - 2)->num\n",
    "    for i in range(0, num - 1):\n",
    "        if num_array[i] == 0:\n",
    "            continue\n",
    "        \n",
    "        # base is the current prime number, the first number is 2 rather than 0.\n",
    "        base = 2 + i\n",
    "        \n",
    "        # we use base multuply the count\n",
    "        count = 2\n",
    "        \n",
    "        # set all Multiple of base to 0\n",
    "        while (base * count) <= num:\n",
    "            num_array[(base * count) - 2] = 0\n",
    "            count += 1\n",
    "        # after the while loop, all number flag as 1 is the prime.\n",
    "        \n",
    "    # sum of all prime\n",
    "    sum = 0\n",
    "    \n",
    "    # calculate the number of prime number\n",
    "    for index in num_array:\n",
    "        if index == 1:\n",
    "            sum += 1\n",
    "    return sum"
   ]
  },
  {
   "cell_type": "code",
   "execution_count": 4,
   "metadata": {},
   "outputs": [
    {
     "name": "stdout",
     "output_type": "stream",
     "text": [
      "7\n"
     ]
    }
   ],
   "source": [
    "print(sieve_of_eratosthenes(17))"
   ]
  }
 ],
 "metadata": {
  "kernelspec": {
   "display_name": "Python 3",
   "language": "python",
   "name": "python3"
  },
  "language_info": {
   "codemirror_mode": {
    "name": "ipython",
    "version": 3
   },
   "file_extension": ".py",
   "mimetype": "text/x-python",
   "name": "python",
   "nbconvert_exporter": "python",
   "pygments_lexer": "ipython3",
   "version": "3.6.5"
  }
 },
 "nbformat": 4,
 "nbformat_minor": 4
}
