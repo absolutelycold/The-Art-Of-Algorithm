{
 "cells": [
  {
   "cell_type": "markdown",
   "metadata": {},
   "source": [
    "# Shell Sort\n",
    "\n",
    "In the traditional insertion sort, there are too many exchanges rather than insert directly.\n",
    "\n",
    "To decrease the exchange movement, the shell sort exist.\n",
    "\n",
    "![](https://static.packt-cdn.com/products/9781786465153/graphics/B05666_05_06.jpg)\n",
    "\n",
    "The calculation of gap (Knuth Sequence): $ 2h + 1 $"
   ]
  },
  {
   "cell_type": "markdown",
   "metadata": {},
   "source": [
    "## Java Implementation\n",
    "\n",
    "+ Class Name: Shell\n",
    "  + Constructor: Empty\n",
    "  + Method:\n",
    "    + public static void sort(Comparable[] inputList)\n",
    "    + public static void exchange(Comparable[] inputList, int a, int b)\n",
    "    + public static void insertionWithGap(Comparable[] inputList, int startIndex, int gap)\n",
    "    + public static int getGap(Comparable[] inputList)"
   ]
  },
  {
   "cell_type": "code",
   "execution_count": 1,
   "metadata": {},
   "outputs": [],
   "source": [
    "public class Shell {\n",
    "\n",
    "    \n",
    "    public static void exchange(Comparable[] inputList, int a, int b) {\n",
    "        Comparable temp = inputList[a];\n",
    "        inputList[a] = inputList[b];\n",
    "        inputList[b] = temp;\n",
    "    }\n",
    "    \n",
    "    public static int getGap(Comparable[] inputList) {\n",
    "        int length = inputList.length;\n",
    "        int gap = 1;\n",
    "        while (gap < (length / 2)) {\n",
    "            gap = 2 * gap + 1;\n",
    "        }\n",
    "        return gap;\n",
    "    }\n",
    "    \n",
    "    public static void insertionWithGap(Comparable[] inputList, int gap) {\n",
    "        int length = inputList.length;\n",
    "        for (int i = 0; i < gap; i++) {\n",
    "            int numOfElements = ((length - i - 1) / gap) + 1;\n",
    "            for (int j = i + gap; j < length; j += gap) {\n",
    "                for (int k = j; k > i; k -= gap) {\n",
    "                    if(inputList[k].compareTo(inputList[k - gap]) < 0) {\n",
    "                        exchange(inputList, k, k - gap);\n",
    "                    }\n",
    "                }\n",
    "            }\n",
    "        }\n",
    "    }\n",
    "    \n",
    "    public static void sort(Comparable[] inputList) {\n",
    "        int gap = getGap(inputList);\n",
    "        while(gap != 0) {\n",
    "            insertionWithGap(inputList, gap);\n",
    "            gap /= 2;\n",
    "        }\n",
    "    }\n",
    "}"
   ]
  },
  {
   "cell_type": "markdown",
   "metadata": {},
   "source": [
    "## Test"
   ]
  },
  {
   "cell_type": "code",
   "execution_count": 2,
   "metadata": {},
   "outputs": [
    {
     "name": "stdout",
     "output_type": "stream",
     "text": [
      "[2, 5, 5, 12, 12, 32, 33, 55, 66, 67, 100]\r\n"
     ]
    }
   ],
   "source": [
    "Integer[] a = {12, 32, 33, 2, 12, 55, 5, 5, 100, 66, 67};\n",
    "Shell.sort(a);\n",
    "System.out.println(Arrays.toString(a));"
   ]
  },
  {
   "cell_type": "markdown",
   "metadata": {},
   "source": [
    "## Time Complexity"
   ]
  },
  {
   "cell_type": "markdown",
   "metadata": {},
   "source": []
  }
 ],
 "metadata": {
  "kernelspec": {
   "display_name": "Java",
   "language": "java",
   "name": "java"
  },
  "language_info": {
   "codemirror_mode": "java",
   "file_extension": ".jshell",
   "mimetype": "text/x-java-source",
   "name": "Java",
   "pygments_lexer": "java",
   "version": "14.0.2+12-46"
  }
 },
 "nbformat": 4,
 "nbformat_minor": 2
}
