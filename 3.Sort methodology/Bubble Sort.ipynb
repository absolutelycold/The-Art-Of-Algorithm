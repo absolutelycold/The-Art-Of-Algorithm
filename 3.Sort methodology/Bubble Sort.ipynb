{
 "cells": [
  {
   "cell_type": "markdown",
   "metadata": {},
   "source": [
    "# Bubble Sort 冒泡排序\n",
    "\n",
    "![](https://www.studytonight.com/data-structures/images/basic-bubble-sort.png)"
   ]
  },
  {
   "cell_type": "markdown",
   "metadata": {},
   "source": [
    "## JAVA implementation:\n",
    "\n",
    "+ Class Name: BubbleSort\n",
    "  + Constructor: empty\n",
    "  + Method:\n",
    "    + public static void sort(Comparable[] inputList)\n",
    "    + public static boolean isGreater(Comparable former, Comparable after)\n",
    "    + public static void exchange(int formerPosition)\n"
   ]
  },
  {
   "cell_type": "code",
   "execution_count": 1,
   "metadata": {},
   "outputs": [],
   "source": [
    "public class Bubble {\n",
    "    public static void sort(Comparable[] inputList) {\n",
    "        int size = inputList.length;\n",
    "        for (int i = size - 1; i >= 0; i--) {      // The end position\n",
    "            for (int j = 0; j < i; j++) {          // From 0 to end position\n",
    "                if (isGreater(inputList[j], inputList[j+1])) {\n",
    "                    exchange(inputList, j);\n",
    "                }\n",
    "            }\n",
    "        }\n",
    "    }\n",
    "\n",
    "    public static boolean isGreater(Comparable a, Comparable b) {\n",
    "        int result = a.compareTo(b);\n",
    "        if (result > 0) {\n",
    "            return true;\n",
    "        }\n",
    "        else {\n",
    "            return false;\n",
    "        }\n",
    "    }\n",
    "    \n",
    "    public static void exchange(Comparable[] inputList, int index) {\n",
    "        \n",
    "        Comparable temp = inputList[index];\n",
    "        inputList[index] = inputList[index + 1];\n",
    "        inputList[index + 1] = temp;\n",
    "    }\n",
    "}\n"
   ]
  },
  {
   "cell_type": "markdown",
   "metadata": {},
   "source": [
    "## Test:"
   ]
  },
  {
   "cell_type": "code",
   "execution_count": 3,
   "metadata": {},
   "outputs": [
    {
     "name": "stdout",
     "output_type": "stream",
     "text": [
      "[2, 2, 2, 3, 4, 4, 6, 12, 21, 43, 55, 56]\r\n"
     ]
    }
   ],
   "source": [
    "Integer[] a = {4, 2, 3, 55, 2, 6, 4, 2, 43, 12, 56, 21};\n",
    "Bubble.sort(a);\n",
    "System.out.println(Arrays.toString(a));"
   ]
  },
  {
   "cell_type": "markdown",
   "metadata": {},
   "source": [
    "## Time Complexity:\n",
    "\n",
    "Assume we have a fully inversed array from our result like : [6, 5, 4, 3, 2, 1].\n",
    "The Time Complexity is:\n",
    "\n",
    "$$ \n",
    "\\begin{aligned}\n",
    "(N-1) + (N-2) + (N-3) + ... + 3 + 2 + 1 \n",
    "&= \\frac{(1 + (N - 1)) * (N - 1)}{2} \\\\\n",
    "&= \\frac{N^2 - N}{2} \\\\\n",
    "\\end{aligned}\n",
    "$$\n",
    "\n",
    "$ \\therefore $ the complexity of bubble sort is $ O(n^2) $\n"
   ]
  }
 ],
 "metadata": {
  "kernelspec": {
   "display_name": "Java",
   "language": "java",
   "name": "java"
  },
  "language_info": {
   "codemirror_mode": "java",
   "file_extension": ".jshell",
   "mimetype": "text/x-java-source",
   "name": "Java",
   "pygments_lexer": "java",
   "version": "14.0.2+12-46"
  }
 },
 "nbformat": 4,
 "nbformat_minor": 2
}
