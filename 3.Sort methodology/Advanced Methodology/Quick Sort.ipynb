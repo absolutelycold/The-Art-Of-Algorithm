{
 "cells": [
  {
   "cell_type": "markdown",
   "metadata": {},
   "source": [
    "## Quick Sort\n",
    "\n",
    "The example of quick sort:\n",
    "![](https://i2.wp.com/www.techiedelight.com/wp-content/uploads/Quicksort.png?w=1100http://)"
   ]
  },
  {
   "cell_type": "markdown",
   "metadata": {},
   "source": [
    "The idea of quick sort:\n",
    "\n",
    "1. choose a pivot\n",
    "2. divide array with two part divided by pivot. All numbers that are less than the pivot will be put to the left hand of the pivot. All numbers that are greater than pivot will be put to the right side of the pivot.\n",
    "3. Do step 1 on the sub array again (Reccurssion)\n",
    "\n",
    "The way to find pivot: In my algorithm, I will simply pick the middle elements as the pivot.\n",
    "\n",
    "The way to partition:\n",
    "![](https://www.codingeek.com/wp-content/uploads/2016/06/word-image-2.png)"
   ]
  },
  {
   "cell_type": "markdown",
   "metadata": {},
   "source": [
    "## Java Impelementation\n",
    "\n",
    "+ Class Name: Quick\n",
    "  + Constructor: Empty\n",
    "  + Method:\n",
    "    + public static void sort(Comparable[] input)\n",
    "    + public static void sort(Comparable[] input, int start, int end)\n",
    "    + public static int partition(Comparable[] input, int start, int end)"
   ]
  },
  {
   "cell_type": "code",
   "execution_count": 1,
   "metadata": {},
   "outputs": [],
   "source": [
    "public class Quick {\n",
    "    \n",
    "    public static void sort(Comparable[] input) {\n",
    "        sort(input, 0, input.length - 1);\n",
    "    }\n",
    "    \n",
    "    public static void sort(Comparable[] input, int start, int end) {\n",
    "        \n",
    "        // Security check (Stop sign)\n",
    "        if (start >= end) {\n",
    "            return;\n",
    "        }\n",
    "        \n",
    "        // Firstly, divide into two part and get the pivot\n",
    "        int partitionIndex = partition(input, start, end);\n",
    "        \n",
    "        // Then, sort the divided two part\n",
    "        sort(input, start, partitionIndex - 1);\n",
    "        sort(input, partitionIndex + 1, end);\n",
    "    }\n",
    "    \n",
    "    public static int partition(Comparable[] input, int start, int end) {\n",
    "        \n",
    "        // Firstly, get the pivot\n",
    "        int pivotIndex = start + (end - start) / 2;\n",
    "        // Put the pivot into the first place\n",
    "        exchange(input, start, pivotIndex);\n",
    "        \n",
    "        // Do partition for two side\n",
    "        \n",
    "        // pointer in left side\n",
    "        int pLeft = start;\n",
    "        // pointer in right side\n",
    "        int pRight = end + 1;\n",
    "        \n",
    "        // move the pointer\n",
    "        while(true) {\n",
    "            // the left pointer\n",
    "            while(input[++pLeft].compareTo(input[start]) <= 0) {\n",
    "                if (pLeft == end) {\n",
    "                    break;\n",
    "                }\n",
    "            }\n",
    "            \n",
    "            // the right pointer\n",
    "            while(input[--pRight].compareTo(input[start]) > 0) {\n",
    "                if(pRight == start) {\n",
    "                    break;\n",
    "                }\n",
    "            }\n",
    "            \n",
    "            if (pLeft >= pRight) {\n",
    "                // if pleft has met the pRight\n",
    "                break;\n",
    "            }\n",
    "            else {\n",
    "                // two pointers stop, exchange\n",
    "                exchange(input, pLeft, pRight);\n",
    "            }\n",
    "            \n",
    "        }\n",
    "        \n",
    "        // Swap the pivot (in the start) to rightPointer\n",
    "        // The reason why swap to right pointer is that the right pointer will finally\n",
    "        // point to the left side\n",
    "        exchange(input, start, pRight);\n",
    "        return pRight;\n",
    "    }\n",
    "    \n",
    "    public static void exchange(Comparable[] input, int a, int b) {\n",
    "        Comparable temp = input[a];\n",
    "        input[a] = input[b];\n",
    "        input[b] = temp;\n",
    "    }\n",
    "}"
   ]
  },
  {
   "cell_type": "markdown",
   "metadata": {},
   "source": [
    "## Test"
   ]
  },
  {
   "cell_type": "code",
   "execution_count": 3,
   "metadata": {},
   "outputs": [
    {
     "name": "stdout",
     "output_type": "stream",
     "text": [
      "[1, 1, 2, 3, 5, 5, 11, 22, 22, 33, 34, 66]\r\n"
     ]
    }
   ],
   "source": [
    "Integer[] a = {33, 22 ,3 ,5, 1, 66, 34, 2, 11, 1, 22, 5};\n",
    "Quick.sort(a);\n",
    "System.out.println(Arrays.toString(a));"
   ]
  },
  {
   "cell_type": "markdown",
   "metadata": {},
   "source": [
    "generate 100000 long test array:"
   ]
  },
  {
   "cell_type": "code",
   "execution_count": 4,
   "metadata": {},
   "outputs": [],
   "source": [
    "Integer[] test = new Integer[100000];\n",
    "int count = 0;\n",
    "for (int i = 100000; i > 0; i--) {\n",
    "    test[count] = i;\n",
    "    count++;\n",
    "}"
   ]
  },
  {
   "cell_type": "markdown",
   "metadata": {},
   "source": [
    "Get the running time of quick sort"
   ]
  },
  {
   "cell_type": "code",
   "execution_count": 5,
   "metadata": {},
   "outputs": [
    {
     "name": "stdout",
     "output_type": "stream",
     "text": [
      "Running time of quick sort: 56 ms\r\n"
     ]
    }
   ],
   "source": [
    "long startTime = System.currentTimeMillis();\n",
    "Quick.sort(test);\n",
    "long stopTime = System.currentTimeMillis();\n",
    "System.out.println(\"Running time of quick sort: \" + (stopTime - startTime) + \" ms\");"
   ]
  },
  {
   "cell_type": "markdown",
   "metadata": {},
   "source": [
    "## Time Complexity\n",
    "\n",
    "The best case, the pivot position is always in the middle of the list.\n",
    "\n",
    "This situation is just like merge sort, so $ O(n) = nlog(n) $ in this situation."
   ]
  },
  {
   "cell_type": "markdown",
   "metadata": {},
   "source": [
    "The worst case, the pivot position is always in the end position, $O(n) = n^2$"
   ]
  },
  {
   "cell_type": "markdown",
   "metadata": {},
   "source": [
    "$\\therefore$ $ nlog(n) < O(n) < n^2$"
   ]
  }
 ],
 "metadata": {
  "kernelspec": {
   "display_name": "Java",
   "language": "java",
   "name": "java"
  },
  "language_info": {
   "codemirror_mode": "java",
   "file_extension": ".jshell",
   "mimetype": "text/x-java-source",
   "name": "Java",
   "pygments_lexer": "java",
   "version": "14.0.2+12-46"
  }
 },
 "nbformat": 4,
 "nbformat_minor": 2
}
