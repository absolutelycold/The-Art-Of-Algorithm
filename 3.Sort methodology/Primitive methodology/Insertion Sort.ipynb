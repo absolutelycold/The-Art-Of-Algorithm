{
 "cells": [
  {
   "cell_type": "markdown",
   "metadata": {},
   "source": [
    "# Insertion Sort 插入排序\n",
    "\n",
    "![](https://media.geeksforgeeks.org/wp-content/uploads/insertionsort.png)"
   ]
  },
  {
   "cell_type": "markdown",
   "metadata": {},
   "source": [
    "## Java Implementation:\n",
    "\n",
    "+ Class Name: Insertion\n",
    "  + Constructor: Empty\n",
    "  + Method:\n",
    "    + public static void sort(Comparable[] inputList)\n",
    "    + public static void exchange(Comparable[], int a, int b)"
   ]
  },
  {
   "cell_type": "code",
   "execution_count": 1,
   "metadata": {},
   "outputs": [],
   "source": [
    "public class Insertion {\n",
    "    \n",
    "    public static void sort(Comparable[] inputList) {\n",
    "        \n",
    "        // Every elemnts needs to be insertion\n",
    "        for (int i = 1; i < inputList.length; i++) {\n",
    "            \n",
    "            // Insertion for current element\n",
    "            for (int j = i - 1; j >= 0; j--) {\n",
    "                \n",
    "                // If smaller than former one, do insertion\n",
    "                if (inputList[j + 1].compareTo(inputList[j]) < 0) {\n",
    "                    exchange(inputList, j, j + 1);\n",
    "                }\n",
    "                else{\n",
    "                    // If the current elements bigger than the former one, it reach the position, stop the loop.\n",
    "                    break;\n",
    "                }\n",
    "            }\n",
    "        }\n",
    "    }\n",
    "    \n",
    "    public static void exchange(Comparable[] inputList, int a, int b) {\n",
    "        Comparable temp = inputList[a];\n",
    "        inputList[a] = inputList[b];\n",
    "        inputList[b] = temp;\n",
    "    }\n",
    "}"
   ]
  },
  {
   "cell_type": "markdown",
   "metadata": {},
   "source": [
    "## Test:"
   ]
  },
  {
   "cell_type": "code",
   "execution_count": 2,
   "metadata": {},
   "outputs": [
    {
     "name": "stdout",
     "output_type": "stream",
     "text": [
      "[2, 2, 5, 32, 32, 34, 44, 55, 99, 100, 100]\r\n"
     ]
    }
   ],
   "source": [
    "Integer[] a = {2, 32, 44, 5, 2, 34, 32, 55, 100, 99, 100};\n",
    "Insertion.sort(a);\n",
    "System.out.println(Arrays.toString(a));"
   ]
  },
  {
   "cell_type": "markdown",
   "metadata": {},
   "source": [
    "## Time Complexity\n",
    "\n",
    "The worst situation:\n",
    "$$\n",
    "\\begin{aligned}\n",
    "1 + 2 + 3 + ... + (n - 3) + (n - 2) + (n - 1) \n",
    "&= \\frac{(1 + (n - 1)) \\times (n - 1)}{2} \\\\\n",
    "&= \\frac{n^2 - n}{2} \\\\\n",
    "&= \\frac{n^2}{2} - \\frac{n}{2}\n",
    "\\end{aligned}\n",
    "$$\n",
    "\n",
    "$ \\therefore $ the time complexity of Insertion sort is $ O(n^2) $"
   ]
  }
 ],
 "metadata": {
  "kernelspec": {
   "display_name": "Java",
   "language": "java",
   "name": "java"
  },
  "language_info": {
   "codemirror_mode": "java",
   "file_extension": ".jshell",
   "mimetype": "text/x-java-source",
   "name": "Java",
   "pygments_lexer": "java",
   "version": "14.0.2+12-46"
  }
 },
 "nbformat": 4,
 "nbformat_minor": 2
}
