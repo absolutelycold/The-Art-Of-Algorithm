{
 "cells": [
  {
   "cell_type": "markdown",
   "metadata": {},
   "source": [
    "# Shell Sort\n",
    "\n",
    "In the traditional insertion sort, there are too many exchanges rather than insert directly.\n",
    "\n",
    "To decrease the exchange movement, the shell sort exist.\n",
    "\n",
    "![](https://static.packt-cdn.com/products/9781786465153/graphics/B05666_05_06.jpg)\n",
    "\n",
    "The calculation of gap (Knuth Sequence): $ 2h + 1 $"
   ]
  },
  {
   "cell_type": "markdown",
   "metadata": {},
   "source": [
    "## Java Implementation\n",
    "\n",
    "+ Class Name: Shell\n",
    "  + Constructor: Empty\n",
    "  + Method:\n",
    "    + public static void sort(Comparable[] inputList)\n",
    "    + public static void exchange(Comparable[] inputList, int a, int b)\n",
    "    + public static void insertionWithGap(Comparable[] inputList, int startIndex, int gap)\n",
    "    + public static int getGap(Comparable[] inputList)"
   ]
  },
  {
   "cell_type": "code",
   "execution_count": 1,
   "metadata": {},
   "outputs": [],
   "source": [
    "public class Shell {\n",
    "\n",
    "    \n",
    "    public static void exchange(Comparable[] inputList, int a, int b) {\n",
    "        Comparable temp = inputList[a];\n",
    "        inputList[a] = inputList[b];\n",
    "        inputList[b] = temp;\n",
    "    }\n",
    "    \n",
    "    public static int getGap(Comparable[] inputList) {\n",
    "        int length = inputList.length;\n",
    "        int gap = 1;\n",
    "        while (gap < (length / 2)) {\n",
    "            gap = 2 * gap + 1;\n",
    "        }\n",
    "        return gap;\n",
    "    }\n",
    "    \n",
    "    public static void insertionWithGap(Comparable[] inputList, int gap) {\n",
    "        \n",
    "        // Every elements after the gap need to be insertion sort:\n",
    "        for (int i = gap; i < inputList.length; i++) {\n",
    "            \n",
    "            // Do the insertion sort for each elements after gap:\n",
    "            for (int j = i; j >= gap; j -= gap) {\n",
    "                if (inputList[j].compareTo(inputList[j - gap]) < 0) {\n",
    "                    exchange(inputList, j, j - gap);\n",
    "                }\n",
    "                else {\n",
    "                    break;\n",
    "                }\n",
    "            }\n",
    "        }\n",
    "    }\n",
    "    \n",
    "    public static void sort(Comparable[] inputList) {\n",
    "        \n",
    "        // Get the gap accroding to the length of inputList\n",
    "        int gap = getGap(inputList);\n",
    "        \n",
    "        // Insertion sort with group until the gap equals to 1\n",
    "        while(gap >= 1) {\n",
    "            insertionWithGap(inputList, gap);\n",
    "            gap /= 2;\n",
    "        }\n",
    "        \n",
    "    }\n",
    "}"
   ]
  },
  {
   "cell_type": "markdown",
   "metadata": {},
   "source": [
    "## Test"
   ]
  },
  {
   "cell_type": "code",
   "execution_count": 2,
   "metadata": {},
   "outputs": [
    {
     "name": "stdout",
     "output_type": "stream",
     "text": [
      "[2, 5, 5, 12, 12, 32, 33, 55, 66, 67, 100]\r\n"
     ]
    }
   ],
   "source": [
    "Integer[] a = {12, 32, 33, 2, 12, 55, 5, 5, 100, 66, 67};\n",
    "Shell.sort(a);\n",
    "System.out.println(Arrays.toString(a));"
   ]
  },
  {
   "cell_type": "markdown",
   "metadata": {},
   "source": [
    "## Time Complexity\n",
    "\n",
    "To show some improvement of Shell Sort Algorithm, we can compare it with normal insertion sort.\n",
    "\n",
    "The insertion sort algorithm is like this:"
   ]
  },
  {
   "cell_type": "code",
   "execution_count": 3,
   "metadata": {},
   "outputs": [],
   "source": [
    "public class Insertion {\n",
    "    \n",
    "    public static void sort(Comparable[] inputList) {\n",
    "        for (int i = 1; i < inputList.length; i++) {\n",
    "            for (int j = i - 1; j >= 0; j--) {\n",
    "                if (inputList[j + 1].compareTo(inputList[j]) < 0) {\n",
    "                    exchange(inputList, j, j + 1);\n",
    "                }\n",
    "                else {\n",
    "                    break;\n",
    "                }\n",
    "            }\n",
    "        }\n",
    "    }\n",
    "    \n",
    "    public static void exchange(Comparable[] inputList, int a, int b) {\n",
    "        Comparable temp = inputList[a];\n",
    "        inputList[a] = inputList[b];\n",
    "        inputList[b] = temp;\n",
    "    }\n",
    "}"
   ]
  },
  {
   "cell_type": "markdown",
   "metadata": {},
   "source": [
    "Then we generate two lists with 100000 numbers with reverse order:"
   ]
  },
  {
   "cell_type": "code",
   "execution_count": 4,
   "metadata": {},
   "outputs": [
    {
     "data": {
      "text/plain": [
       "[Ljava.lang.Integer;@75e8ba9c"
      ]
     },
     "execution_count": 4,
     "metadata": {},
     "output_type": "execute_result"
    }
   ],
   "source": [
    "ArrayList<Integer> a = new ArrayList<>();\n",
    "for (int i = 100000; i > 0; i--) {\n",
    "    a.add(i);\n",
    "}\n",
    "\n",
    "Integer[] insertionList = new Integer[100000];\n",
    "Integer[] shellList = new Integer[100000];\n",
    "\n",
    "a.toArray(insertionList);\n",
    "a.toArray(shellList);"
   ]
  },
  {
   "cell_type": "markdown",
   "metadata": {},
   "source": [
    "Finally, we calculate the time when the two algorithm sort this generated list:"
   ]
  },
  {
   "cell_type": "code",
   "execution_count": 5,
   "metadata": {},
   "outputs": [
    {
     "name": "stdout",
     "output_type": "stream",
     "text": [
      "Time of insertion sort: 27070 ms\n",
      "Time of Shell sort: 56 ms\n"
     ]
    }
   ],
   "source": [
    "long startTime = System.currentTimeMillis();\n",
    "Insertion.sort(insertionList);\n",
    "long stopTime = System.currentTimeMillis();\n",
    "System.out.println(\"Time of insertion sort: \" + (stopTime - startTime) + \" ms\");\n",
    "\n",
    "\n",
    "long startTime1 = System.currentTimeMillis();\n",
    "Shell.sort(shellList);\n",
    "long stopTime1 = System.currentTimeMillis();\n",
    "System.out.println(\"Time of Shell sort: \" + (stopTime1 - startTime1) + \" ms\");"
   ]
  },
  {
   "cell_type": "markdown",
   "metadata": {},
   "source": [
    "We can notice that $ 56ms << 27070ms $.\n",
    "\n",
    "$ \\therefore $ shell sort has a better performance than insertion sort.\n",
    "\n",
    "We can get the theory from [WikiPedia](https://en.wikipedia.org/wiki/Shellsort) that:\n",
    "\n",
    "$ O(nlog(n)) $ < Time complexity < $ O(n^2) $ "
   ]
  }
 ],
 "metadata": {
  "kernelspec": {
   "display_name": "Java",
   "language": "java",
   "name": "java"
  },
  "language_info": {
   "codemirror_mode": "java",
   "file_extension": ".jshell",
   "mimetype": "text/x-java-source",
   "name": "Java",
   "pygments_lexer": "java",
   "version": "14.0.2+12-46"
  }
 },
 "nbformat": 4,
 "nbformat_minor": 2
}
