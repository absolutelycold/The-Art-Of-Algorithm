{
 "cells": [
  {
   "cell_type": "markdown",
   "metadata": {},
   "source": [
    "# Selection Sort 选择排序\n",
    "\n",
    "Pick the minimun number from left list put into the first place:\n",
    "\n",
    "![](https://www.tutorialspoint.com/data_structures_algorithms/images/selection_sort.jpg)"
   ]
  },
  {
   "cell_type": "markdown",
   "metadata": {},
   "source": [
    "## Java Implementation\n",
    "\n",
    "+ Class Name: Selection\n",
    "  + Constructor: Empty\n",
    "  + Method:\n",
    "    + public static void sort(Comparable[] inputList)\n",
    "    + public static int getMin(Comparable[] inputList, int start)\n",
    "    + public static void exchange(Comparable[] inputList, int a, int b)"
   ]
  },
  {
   "cell_type": "code",
   "execution_count": 1,
   "metadata": {},
   "outputs": [],
   "source": [
    "public class Selection {\n",
    "    \n",
    "    public static int getMin(Comparable[] inputList, int start) {\n",
    "        int minIndex = start;\n",
    "        for(int i = start; i < inputList.length; i++) {\n",
    "            if(inputList[i].compareTo(inputList[minIndex]) < 0) {\n",
    "                minIndex = i;\n",
    "            }\n",
    "        }\n",
    "        return minIndex;\n",
    "    }\n",
    "    \n",
    "    public static void exchange(Comparable[] inputList, int a, int b) {\n",
    "        Comparable temp = inputList[a];\n",
    "        inputList[a] = inputList[b];\n",
    "        inputList[b] = temp;\n",
    "    }\n",
    "    \n",
    "    public static void sort(Comparable[] inputList) {\n",
    "        for (int i = 0; i < inputList.length; i++) {\n",
    "            exchange(inputList, i, getMin(inputList, i));\n",
    "        }\n",
    "    }\n",
    "    \n",
    "}"
   ]
  },
  {
   "cell_type": "markdown",
   "metadata": {},
   "source": [
    "## Test"
   ]
  },
  {
   "cell_type": "code",
   "execution_count": 2,
   "metadata": {},
   "outputs": [
    {
     "name": "stdout",
     "output_type": "stream",
     "text": [
      "[1, 3, 5, 5, 8, 11, 13, 21, 33, 43, 81, 100, 100]\r\n"
     ]
    }
   ],
   "source": [
    "Integer[] a = {5, 1, 5, 33, 13, 8, 3, 100, 100, 81, 11, 43, 21};\n",
    "Selection.sort(a);\n",
    "System.out.println(Arrays.toString(a));"
   ]
  },
  {
   "cell_type": "markdown",
   "metadata": {},
   "source": [
    "## Time Complexity\n",
    "\n",
    "$$\n",
    "\\begin{aligned}\n",
    "(N - 1) + (N - 2) + (N - 3) + ... + 1\n",
    "& = \\frac{((N-1) + 1)(N - 1)}{2} \\\\\n",
    "& = \\frac{N^2 - N}{2} \\\\\n",
    "& = \\frac{N^2}{2} - \\frac{N}{2}\\\\\n",
    "& = O(N^2)\n",
    "\\end{aligned}\n",
    "$$\n",
    "\n",
    "$ \\therefore $ the time complexity of selection sort is $ O(n^2) $"
   ]
  }
 ],
 "metadata": {
  "kernelspec": {
   "display_name": "Java",
   "language": "java",
   "name": "java"
  },
  "language_info": {
   "codemirror_mode": "java",
   "file_extension": ".jshell",
   "mimetype": "text/x-java-source",
   "name": "Java",
   "pygments_lexer": "java",
   "version": "14.0.2+12-46"
  }
 },
 "nbformat": 4,
 "nbformat_minor": 2
}
